{
 "cells": [
  {
   "cell_type": "code",
   "execution_count": null,
   "metadata": {},
   "outputs": [],
   "source": [
    "# module/library importation\n",
    "import pandas as pd\n",
    "import numpy as np\n",
    "import sklearn \n",
    "import plotly.express as px\n",
    "import plotly.offline as pyo"
   ]
  },
  {
   "cell_type": "code",
   "execution_count": null,
   "metadata": {},
   "outputs": [],
   "source": [
    "from collections import Counter\n",
    "from sklearn.preprocessing import LabelEncoder, MinMaxScaler, StandardScaler\n",
    "from sklearn.model_selection import GridSearchCV, train_test_split\n",
    "from sklearn.tree import DecisionTreeClassifier\n",
    "from sklearn.ensemble import RandomForestClassifier\n",
    "from sklearn.neighbors import KNeighborsClassifier\n",
    "from sklearn.metrics import f1_score, accuracy_score"
   ]
  },
  {
   "cell_type": "code",
   "execution_count": null,
   "metadata": {},
   "outputs": [],
   "source": [
    "pyo.init_notebook_mode()"
   ]
  },
  {
   "cell_type": "code",
   "execution_count": null,
   "metadata": {},
   "outputs": [],
   "source": [
    "df = pd.read_csv('collegePlace.csv')"
   ]
  },
  {
   "cell_type": "code",
   "execution_count": null,
   "metadata": {},
   "outputs": [],
   "source": [
    "df.head(10)"
   ]
  },
  {
   "cell_type": "code",
   "execution_count": null,
   "metadata": {},
   "outputs": [],
   "source": [
    "df.describe()"
   ]
  },
  {
   "cell_type": "code",
   "execution_count": null,
   "metadata": {},
   "outputs": [],
   "source": [
    "df.info()"
   ]
  },
  {
   "cell_type": "markdown",
   "metadata": {},
   "source": [
    "Data Cleaning"
   ]
  },
  {
   "cell_type": "code",
   "execution_count": null,
   "metadata": {},
   "outputs": [],
   "source": [
    "df.isna().sum()"
   ]
  },
  {
   "cell_type": "code",
   "execution_count": null,
   "metadata": {},
   "outputs": [],
   "source": [
    "df['Gender'].value_counts()"
   ]
  },
  {
   "cell_type": "code",
   "execution_count": null,
   "metadata": {},
   "outputs": [],
   "source": [
    "df['Stream'].value_counts()"
   ]
  },
  {
   "cell_type": "code",
   "execution_count": null,
   "metadata": {},
   "outputs": [],
   "source": [
    "# renaming the engineering programs\n",
    "eng = ['Mechanical', 'Electronics And Communication', 'Electrical', 'Civil']\n",
    "\n",
    "for x in eng:\n",
    "    df['Stream'] = df['Stream'].replace(x, x +' Engineering')\n",
    "    \n",
    "df['Stream'].unique()"
   ]
  },
  {
   "cell_type": "code",
   "execution_count": null,
   "metadata": {},
   "outputs": [],
   "source": [
    "df['Stream'].value_counts()"
   ]
  },
  {
   "cell_type": "code",
   "execution_count": null,
   "metadata": {
    "scrolled": true
   },
   "outputs": [],
   "source": [
    "df.head(10)"
   ]
  },
  {
   "cell_type": "code",
   "execution_count": null,
   "metadata": {},
   "outputs": [],
   "source": [
    "df['Hostel'].unique()"
   ]
  },
  {
   "cell_type": "code",
   "execution_count": null,
   "metadata": {},
   "outputs": [],
   "source": [
    "df['CGPA'].min()"
   ]
  },
  {
   "cell_type": "code",
   "execution_count": null,
   "metadata": {},
   "outputs": [],
   "source": [
    "df['CGPA'].max()"
   ]
  },
  {
   "cell_type": "markdown",
   "metadata": {},
   "source": [
    "### Data Visualization"
   ]
  },
  {
   "cell_type": "code",
   "execution_count": null,
   "metadata": {},
   "outputs": [],
   "source": [
    "# programs offered by students in the dataset\n",
    "programs = Counter(df['Stream'])\n",
    "# grabbing the most common elements in the dictionary\n",
    "program = programs.most_common()\n",
    "value = [x[0] for x in program]\n",
    "count = [x[1] for x in program]\n",
    "title = \"Programs offered by students(count)\"\n",
    "\n",
    "fig = px.bar(program, x=value, y=count, color=value, labels={'x': \"programs\", 'y': \"count\"}, title=title)\n",
    "fig.show()"
   ]
  },
  {
   "cell_type": "markdown",
   "metadata": {},
   "source": [
    "Visualizing data based on computer science only"
   ]
  },
  {
   "cell_type": "code",
   "execution_count": null,
   "metadata": {},
   "outputs": [],
   "source": [
    "# creating new dataset based on computer science alone\n",
    "df2 = df[df['Stream'] == 'Computer Science']\n",
    "\n",
    "df2"
   ]
  },
  {
   "cell_type": "code",
   "execution_count": null,
   "metadata": {
    "scrolled": false
   },
   "outputs": [],
   "source": [
    "# males compared to females who offered CS\n",
    "counter = Counter(df2['Gender'])\n",
    "# grabbing the most common elements in the dictionary\n",
    "gender = counter.most_common()\n",
    "value = [x[0] for x in gender]\n",
    "count = [x[1] for x in gender]\n",
    "title = \"Males and Females who offered Computer Science\"\n",
    "\n",
    "fig1 = px.pie(gender, names=value, values=count, color=value, hole=0.2, title=title)\n",
    "fig2 = px.bar(gender, x=value, y=count, color=value, labels={'x': 'Gender', 'y': 'Count'}, width=850)\n",
    "\n",
    "fig1.show()\n",
    "fig2.show()"
   ]
  },
  {
   "cell_type": "code",
   "execution_count": null,
   "metadata": {},
   "outputs": [],
   "source": [
    "gender"
   ]
  },
  {
   "cell_type": "code",
   "execution_count": null,
   "metadata": {
    "scrolled": false
   },
   "outputs": [],
   "source": [
    "# students placed/not placed\n",
    "counter = Counter(df['PlacedOrNot'])\n",
    "# grabbing the most common elements in the dictionary\n",
    "placed = counter.most_common()\n",
    "value = [x[0] for x in placed]\n",
    "count = [x[1] for x in placed]\n",
    "\n",
    "fig = px.pie(placed, names=['Placed', 'Not placed'], values=count, color=value, hole=0.2, title='Percentage of students placed/not placed')\n",
    "fig.show()"
   ]
  },
  {
   "cell_type": "code",
   "execution_count": null,
   "metadata": {},
   "outputs": [],
   "source": [
    "# CGPA\n",
    "counter = Counter(df['CGPA'])\n",
    "# grabbing the most common elements in the dictionary\n",
    "cgpa = counter.most_common()\n",
    "value = [x[0] for x in cgpa]\n",
    "count = [x[1] for x in cgpa]\n",
    "\n",
    "fig = px.bar(cgpa, x=value, y=count, color=value, labels={'x': 'CGPA', 'y': 'count'}, \n",
    "             width=850, title='Count of CGPA of students')\n",
    "fig.show()"
   ]
  },
  {
   "cell_type": "markdown",
   "metadata": {},
   "source": [
    "Data Prediction"
   ]
  },
  {
   "cell_type": "code",
   "execution_count": null,
   "metadata": {},
   "outputs": [],
   "source": [
    "# feature encoding\n",
    "le_gender = LabelEncoder()\n",
    "df['Gender'] = le_gender.fit_transform(df['Gender'])\n",
    "le_stream = LabelEncoder()\n",
    "df['Stream'] = le_stream.fit_transform(df['Stream'])\n",
    "le_backlog = LabelEncoder()\n",
    "backlog = le_backlog.fit_transform(['Yes', 'No'])"
   ]
  },
  {
   "cell_type": "code",
   "execution_count": null,
   "metadata": {},
   "outputs": [],
   "source": [
    "df['Stream'].unique()"
   ]
  },
  {
   "cell_type": "code",
   "execution_count": null,
   "metadata": {},
   "outputs": [],
   "source": [
    "# feature selection\n",
    "X = df.drop(df[['Hostel', 'PlacedOrNot']], axis=1)\n",
    "y = df['PlacedOrNot']\n",
    "\n",
    "X"
   ]
  },
  {
   "cell_type": "code",
   "execution_count": null,
   "metadata": {},
   "outputs": [],
   "source": [
    "# scaling selected features\n",
    "scaler = MinMaxScaler()\n",
    "scaled_X = scaler.fit_transform(X)"
   ]
  },
  {
   "cell_type": "code",
   "execution_count": null,
   "metadata": {},
   "outputs": [],
   "source": [
    "scaled_X"
   ]
  },
  {
   "cell_type": "code",
   "execution_count": null,
   "metadata": {},
   "outputs": [],
   "source": [
    "# splitting dataset\n",
    "X_train, X_test, y_train, y_test = train_test_split(scaled_X, y, test_size=0.20, random_state=42)"
   ]
  },
  {
   "cell_type": "markdown",
   "metadata": {},
   "source": [
    "Decision Tree Classifier"
   ]
  },
  {
   "cell_type": "code",
   "execution_count": null,
   "metadata": {},
   "outputs": [],
   "source": [
    "# model selection and training(try phase)\n",
    "model = DecisionTreeClassifier(random_state=23)\n",
    "\n",
    "params = {'criterion': ['gini', 'entropy'], 'splitter': ['best', 'random'], 'max_features': ['auto', 'log2']} \n",
    "\n",
    "model_cv = GridSearchCV(model, params, cv=5)\n",
    "model_cv.fit(X_train, y_train)"
   ]
  },
  {
   "cell_type": "code",
   "execution_count": null,
   "metadata": {},
   "outputs": [],
   "source": [
    "prediction = model_cv.predict(X_test)"
   ]
  },
  {
   "cell_type": "code",
   "execution_count": null,
   "metadata": {},
   "outputs": [],
   "source": [
    "print('Best parameters: {}'.format(model_cv.best_params_))\n",
    "print('Best score: {:.3}'.format(model_cv.best_score_))\n",
    "print('F1 score: {:.3}'.format(f1_score(y_test, prediction)))"
   ]
  },
  {
   "cell_type": "code",
   "execution_count": null,
   "metadata": {},
   "outputs": [],
   "source": [
    "# refitting best prameters of each model to the data\n",
    "# each model was tested with GridSearchCV to find the best parameters used below\n",
    "model = DecisionTreeClassifier(random_state=23, criterion='entropy', max_features='auto', splitter='best')\n",
    "model2 = RandomForestClassifier(random_state=23, n_estimators=280, criterion='entropy', max_features='auto')\n",
    "model3 = KNeighborsClassifier(n_neighbors=7, weights='uniform')"
   ]
  },
  {
   "cell_type": "code",
   "execution_count": null,
   "metadata": {},
   "outputs": [],
   "source": [
    "model.fit(X_train, y_train)\n",
    "model2.fit(X_train, y_train)\n",
    "model3.fit(X_train, y_train)"
   ]
  },
  {
   "cell_type": "code",
   "execution_count": null,
   "metadata": {},
   "outputs": [],
   "source": [
    "prediction = model.predict(X_test)\n",
    "prediction2 = model2.predict(X_test)\n",
    "prediction3 = model3.predict(X_test)"
   ]
  },
  {
   "cell_type": "code",
   "execution_count": null,
   "metadata": {},
   "outputs": [],
   "source": [
    "# for decicion tree classifier\n",
    "print(\"F1 score: {:.3f}\".format(f1_score(y_test, prediction)))\n",
    "print(\"Accuracy score: {:.3f}\".format(accuracy_score(y_test, prediction)))"
   ]
  },
  {
   "cell_type": "code",
   "execution_count": null,
   "metadata": {},
   "outputs": [],
   "source": [
    "# for random forest classifier\n",
    "print(\"F1 score: {:.3f}\".format(f1_score(y_test, prediction2)))\n",
    "print(\"Accuracy score: {:.3f}\".format(accuracy_score(y_test, prediction2)))"
   ]
  },
  {
   "cell_type": "code",
   "execution_count": null,
   "metadata": {},
   "outputs": [],
   "source": [
    "# for k nearest classifier\n",
    "print(\"F1 score: {:.3f}\".format(f1_score(y_test, prediction3)))\n",
    "print(\"Accuracy score: {:.3f}\".format(accuracy_score(y_test, prediction3)))"
   ]
  },
  {
   "cell_type": "markdown",
   "metadata": {},
   "source": [
    "Final  model selection"
   ]
  },
  {
   "cell_type": "code",
   "execution_count": null,
   "metadata": {},
   "outputs": [],
   "source": [
    "# selecting random forest as final model for prediction\n",
    "# rescaling and fiting of model\n",
    "scaler = StandardScaler()\n",
    "# using original X to fit the scaler and model fitting\n",
    "x_scaled = scaler.fit_transform(X)\n",
    "\n",
    "model = RandomForestClassifier(random_state=23, n_estimators=280, criterion='entropy', max_features='auto')\n",
    "model.fit(x_scaled, y)"
   ]
  },
  {
   "cell_type": "code",
   "execution_count": null,
   "metadata": {},
   "outputs": [],
   "source": [
    "import pickle\n",
    "\n",
    "# saving model and scaler\n",
    "data = {'model': model, 'le_gender': le_gender, 'le_stream': le_stream, 'le_backlog': le_backlog}\n",
    "with open('model.sav', 'wb') as file:\n",
    "    pickle.dump(data, file)\n",
    "    \n",
    "with open('scaler.sav', 'wb') as file:\n",
    "    pickle.dump(scaler, file)"
   ]
  },
  {
   "cell_type": "code",
   "execution_count": null,
   "metadata": {},
   "outputs": [],
   "source": [
    "with open('model.sav', 'rb') as file:\n",
    "    data = pickle.load(file)"
   ]
  },
  {
   "cell_type": "code",
   "execution_count": null,
   "metadata": {},
   "outputs": [],
   "source": [
    "with open('scaler.sav', 'rb') as file:\n",
    "    scaler = pickle.load(file)"
   ]
  },
  {
   "cell_type": "markdown",
   "metadata": {},
   "source": [
    "#### testing model"
   ]
  },
  {
   "cell_type": "code",
   "execution_count": null,
   "metadata": {},
   "outputs": [],
   "source": [
    "model = data['model']\n",
    "le_gender = data['le_gender']\n",
    "le_stream = data['le_stream']\n",
    "le_backlog = data['le_backlog']"
   ]
  },
  {
   "cell_type": "code",
   "execution_count": null,
   "metadata": {},
   "outputs": [],
   "source": [
    "# refining data for testing\n",
    "x = np.array([[22, 'Male', 'Computer Science', 5, 8, 'No']])\n",
    "\n",
    "x[:, 1] = le_gender.transform(x[:, 1])\n",
    "x[:, 2] = le_stream.transform(x[:, 2])\n",
    "x[:, 5] = le_backlog.transform(x[:, 5])\n",
    "x = x.astype(int)"
   ]
  },
  {
   "cell_type": "code",
   "execution_count": null,
   "metadata": {},
   "outputs": [],
   "source": [
    "prediction = model.predict(x)\n",
    "\n",
    "if prediction == 1:\n",
    "    print('Student is placed')\n",
    "else:\n",
    "    print('Student not placed')"
   ]
  }
 ],
 "metadata": {
  "kernelspec": {
   "display_name": "Python 3",
   "language": "python",
   "name": "python3"
  },
  "language_info": {
   "codemirror_mode": {
    "name": "ipython",
    "version": 3
   },
   "file_extension": ".py",
   "mimetype": "text/x-python",
   "name": "python",
   "nbconvert_exporter": "python",
   "pygments_lexer": "ipython3",
   "version": "3.8.5"
  }
 },
 "nbformat": 4,
 "nbformat_minor": 4
}
